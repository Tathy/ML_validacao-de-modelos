{
  "nbformat": 4,
  "nbformat_minor": 0,
  "metadata": {
    "colab": {
      "provenance": []
    },
    "kernelspec": {
      "name": "python3",
      "display_name": "Python 3"
    },
    "language_info": {
      "name": "python"
    }
  },
  "cells": [
    {
      "cell_type": "markdown",
      "source": [
        "# Machine Learning: Validação de Modelos"
      ],
      "metadata": {
        "id": "VOc_M2P-0kja"
      }
    },
    {
      "cell_type": "markdown",
      "source": [
        "* **Base de Dados:** Características físicas de alguns carros que estão ou estiveram à venda, seus preços de venda, e se foram vendidos ou não. Site de vendas fictício.\n",
        "\n",
        "* **Sobre o projeto:** Este projeto está sendo desenvolvido com referência no curso [Machine Learning: validação de modelos](https://cursos.alura.com.br/course/machine-learning-validando-modelos) da Alura, que é a continuação direta de um outro curso [Machine Learning: classificação com SKLearn](https://cursos.alura.com.br/course/machine-learning-introducao-a-classificacao-com-sklearn). Por isso, a inicialização deste projeto não terá muitas observações."
      ],
      "metadata": {
        "id": "tjadAVOE167J"
      }
    },
    {
      "cell_type": "markdown",
      "source": [
        "## Abertura e Tratamentos dos dados"
      ],
      "metadata": {
        "id": "4XpZTnVd4vJk"
      }
    },
    {
      "cell_type": "code",
      "execution_count": null,
      "metadata": {
        "id": "Ym_-PWw80c1Y",
        "colab": {
          "base_uri": "https://localhost:8080/"
        },
        "outputId": "a15f7de8-5c50-4374-96a8-70edd2211cae"
      },
      "outputs": [
        {
          "output_type": "execute_result",
          "data": {
            "text/plain": [
              "       preco  vendido  idade_do_modelo   km_por_ano\n",
              "0   30941.02        1               18  35085.22134\n",
              "1   40557.96        1               20  12622.05362\n",
              "2   89627.50        0               12  11440.79806\n",
              "3   95276.14        0                3  43167.32682\n",
              "4  117384.68        1                4  12770.11290"
            ],
            "text/html": [
              "\n",
              "  <div id=\"df-1186e7d8-d325-4b52-9a1e-14c2f703c42c\">\n",
              "    <div class=\"colab-df-container\">\n",
              "      <div>\n",
              "<style scoped>\n",
              "    .dataframe tbody tr th:only-of-type {\n",
              "        vertical-align: middle;\n",
              "    }\n",
              "\n",
              "    .dataframe tbody tr th {\n",
              "        vertical-align: top;\n",
              "    }\n",
              "\n",
              "    .dataframe thead th {\n",
              "        text-align: right;\n",
              "    }\n",
              "</style>\n",
              "<table border=\"1\" class=\"dataframe\">\n",
              "  <thead>\n",
              "    <tr style=\"text-align: right;\">\n",
              "      <th></th>\n",
              "      <th>preco</th>\n",
              "      <th>vendido</th>\n",
              "      <th>idade_do_modelo</th>\n",
              "      <th>km_por_ano</th>\n",
              "    </tr>\n",
              "  </thead>\n",
              "  <tbody>\n",
              "    <tr>\n",
              "      <th>0</th>\n",
              "      <td>30941.02</td>\n",
              "      <td>1</td>\n",
              "      <td>18</td>\n",
              "      <td>35085.22134</td>\n",
              "    </tr>\n",
              "    <tr>\n",
              "      <th>1</th>\n",
              "      <td>40557.96</td>\n",
              "      <td>1</td>\n",
              "      <td>20</td>\n",
              "      <td>12622.05362</td>\n",
              "    </tr>\n",
              "    <tr>\n",
              "      <th>2</th>\n",
              "      <td>89627.50</td>\n",
              "      <td>0</td>\n",
              "      <td>12</td>\n",
              "      <td>11440.79806</td>\n",
              "    </tr>\n",
              "    <tr>\n",
              "      <th>3</th>\n",
              "      <td>95276.14</td>\n",
              "      <td>0</td>\n",
              "      <td>3</td>\n",
              "      <td>43167.32682</td>\n",
              "    </tr>\n",
              "    <tr>\n",
              "      <th>4</th>\n",
              "      <td>117384.68</td>\n",
              "      <td>1</td>\n",
              "      <td>4</td>\n",
              "      <td>12770.11290</td>\n",
              "    </tr>\n",
              "  </tbody>\n",
              "</table>\n",
              "</div>\n",
              "      <button class=\"colab-df-convert\" onclick=\"convertToInteractive('df-1186e7d8-d325-4b52-9a1e-14c2f703c42c')\"\n",
              "              title=\"Convert this dataframe to an interactive table.\"\n",
              "              style=\"display:none;\">\n",
              "        \n",
              "  <svg xmlns=\"http://www.w3.org/2000/svg\" height=\"24px\"viewBox=\"0 0 24 24\"\n",
              "       width=\"24px\">\n",
              "    <path d=\"M0 0h24v24H0V0z\" fill=\"none\"/>\n",
              "    <path d=\"M18.56 5.44l.94 2.06.94-2.06 2.06-.94-2.06-.94-.94-2.06-.94 2.06-2.06.94zm-11 1L8.5 8.5l.94-2.06 2.06-.94-2.06-.94L8.5 2.5l-.94 2.06-2.06.94zm10 10l.94 2.06.94-2.06 2.06-.94-2.06-.94-.94-2.06-.94 2.06-2.06.94z\"/><path d=\"M17.41 7.96l-1.37-1.37c-.4-.4-.92-.59-1.43-.59-.52 0-1.04.2-1.43.59L10.3 9.45l-7.72 7.72c-.78.78-.78 2.05 0 2.83L4 21.41c.39.39.9.59 1.41.59.51 0 1.02-.2 1.41-.59l7.78-7.78 2.81-2.81c.8-.78.8-2.07 0-2.86zM5.41 20L4 18.59l7.72-7.72 1.47 1.35L5.41 20z\"/>\n",
              "  </svg>\n",
              "      </button>\n",
              "      \n",
              "  <style>\n",
              "    .colab-df-container {\n",
              "      display:flex;\n",
              "      flex-wrap:wrap;\n",
              "      gap: 12px;\n",
              "    }\n",
              "\n",
              "    .colab-df-convert {\n",
              "      background-color: #E8F0FE;\n",
              "      border: none;\n",
              "      border-radius: 50%;\n",
              "      cursor: pointer;\n",
              "      display: none;\n",
              "      fill: #1967D2;\n",
              "      height: 32px;\n",
              "      padding: 0 0 0 0;\n",
              "      width: 32px;\n",
              "    }\n",
              "\n",
              "    .colab-df-convert:hover {\n",
              "      background-color: #E2EBFA;\n",
              "      box-shadow: 0px 1px 2px rgba(60, 64, 67, 0.3), 0px 1px 3px 1px rgba(60, 64, 67, 0.15);\n",
              "      fill: #174EA6;\n",
              "    }\n",
              "\n",
              "    [theme=dark] .colab-df-convert {\n",
              "      background-color: #3B4455;\n",
              "      fill: #D2E3FC;\n",
              "    }\n",
              "\n",
              "    [theme=dark] .colab-df-convert:hover {\n",
              "      background-color: #434B5C;\n",
              "      box-shadow: 0px 1px 3px 1px rgba(0, 0, 0, 0.15);\n",
              "      filter: drop-shadow(0px 1px 2px rgba(0, 0, 0, 0.3));\n",
              "      fill: #FFFFFF;\n",
              "    }\n",
              "  </style>\n",
              "\n",
              "      <script>\n",
              "        const buttonEl =\n",
              "          document.querySelector('#df-1186e7d8-d325-4b52-9a1e-14c2f703c42c button.colab-df-convert');\n",
              "        buttonEl.style.display =\n",
              "          google.colab.kernel.accessAllowed ? 'block' : 'none';\n",
              "\n",
              "        async function convertToInteractive(key) {\n",
              "          const element = document.querySelector('#df-1186e7d8-d325-4b52-9a1e-14c2f703c42c');\n",
              "          const dataTable =\n",
              "            await google.colab.kernel.invokeFunction('convertToInteractive',\n",
              "                                                     [key], {});\n",
              "          if (!dataTable) return;\n",
              "\n",
              "          const docLinkHtml = 'Like what you see? Visit the ' +\n",
              "            '<a target=\"_blank\" href=https://colab.research.google.com/notebooks/data_table.ipynb>data table notebook</a>'\n",
              "            + ' to learn more about interactive tables.';\n",
              "          element.innerHTML = '';\n",
              "          dataTable['output_type'] = 'display_data';\n",
              "          await google.colab.output.renderOutput(dataTable, element);\n",
              "          const docLink = document.createElement('div');\n",
              "          docLink.innerHTML = docLinkHtml;\n",
              "          element.appendChild(docLink);\n",
              "        }\n",
              "      </script>\n",
              "    </div>\n",
              "  </div>\n",
              "  "
            ]
          },
          "metadata": {},
          "execution_count": 1
        }
      ],
      "source": [
        "import pandas as pd\n",
        "\n",
        "uri = \"https://gist.githubusercontent.com/guilhermesilveira/e99a526b2e7ccc6c3b70f53db43a87d2/raw/1605fc74aa778066bf2e6695e24d53cf65f2f447/machine-learning-carros-simulacao.csv\"\n",
        "dados = pd.read_csv(uri).drop(columns=[\"Unnamed: 0\"], axis=1)\n",
        "dados.head()"
      ]
    },
    {
      "cell_type": "code",
      "source": [
        "dados.info()"
      ],
      "metadata": {
        "id": "CHZcC4FJ12c7",
        "colab": {
          "base_uri": "https://localhost:8080/"
        },
        "outputId": "8a120053-8e50-43ae-f063-eff7cf7acd44"
      },
      "execution_count": null,
      "outputs": [
        {
          "output_type": "stream",
          "name": "stdout",
          "text": [
            "<class 'pandas.core.frame.DataFrame'>\n",
            "RangeIndex: 10000 entries, 0 to 9999\n",
            "Data columns (total 4 columns):\n",
            " #   Column           Non-Null Count  Dtype  \n",
            "---  ------           --------------  -----  \n",
            " 0   preco            10000 non-null  float64\n",
            " 1   vendido          10000 non-null  int64  \n",
            " 2   idade_do_modelo  10000 non-null  int64  \n",
            " 3   km_por_ano       10000 non-null  float64\n",
            "dtypes: float64(2), int64(2)\n",
            "memory usage: 312.6 KB\n"
          ]
        }
      ]
    },
    {
      "cell_type": "code",
      "source": [
        "import numpy as np\n",
        "from sklearn.model_selection import train_test_split\n",
        "from sklearn.svm import LinearSVC\n",
        "from sklearn.metrics import accuracy_score\n",
        "\n",
        "x = dados[[\"preco\", \"idade_do_modelo\",\"km_por_ano\"]]\n",
        "y = dados[\"vendido\"]\n",
        "\n",
        "SEED = 158020\n",
        "np.random.seed(SEED)\n",
        "treino_x, teste_x, treino_y, teste_y = train_test_split(x, y, test_size = 0.25,\n",
        "                                                         stratify = y)\n",
        "print(f\"Treinaremos com {len(treino_x)} elementos e testaremos com {len(teste_x)} elementos\")"
      ],
      "metadata": {
        "colab": {
          "base_uri": "https://localhost:8080/"
        },
        "id": "he5quMVV3kDC",
        "outputId": "d4a57dcc-3626-4353-ab4a-4883c746d6ae"
      },
      "execution_count": null,
      "outputs": [
        {
          "output_type": "stream",
          "name": "stdout",
          "text": [
            "Treinaremos com 7500 elementos e testaremos com 2500 elementos\n"
          ]
        }
      ]
    },
    {
      "cell_type": "markdown",
      "source": [
        "## Modelo baseline (Dummy Classifier)"
      ],
      "metadata": {
        "id": "64Qcj7y844aZ"
      }
    },
    {
      "cell_type": "markdown",
      "source": [
        "* A taxa de acerto do modelo treinado com Dummy Classifier será utilizada como referência para comparações entre outros modelos."
      ],
      "metadata": {
        "id": "M7CPUEnN5CZp"
      }
    },
    {
      "cell_type": "code",
      "source": [
        "from sklearn.dummy import DummyClassifier\n",
        "\n",
        "dummy_stratified = DummyClassifier(strategy='stratified')\n",
        "dummy_stratified.fit(treino_x, treino_y)\n",
        "acuracia = dummy_stratified.score(teste_x, teste_y) * 100\n",
        "\n",
        "print(f\"A acurácia do Dummy Stratified foi de {acuracia:.2f}%\")"
      ],
      "metadata": {
        "colab": {
          "base_uri": "https://localhost:8080/"
        },
        "id": "f8D-nwnW4cbr",
        "outputId": "972162b0-edf6-4006-b443-10e93c7688b6"
      },
      "execution_count": null,
      "outputs": [
        {
          "output_type": "stream",
          "name": "stdout",
          "text": [
            "A acurácia do Dummy Stratified foi de 50.96%\n"
          ]
        }
      ]
    },
    {
      "cell_type": "markdown",
      "source": [
        "## Modelo 1: Decision Tree"
      ],
      "metadata": {
        "id": "iNb_CEKL5oP6"
      }
    },
    {
      "cell_type": "markdown",
      "source": [
        "* Profundidade máxima 2."
      ],
      "metadata": {
        "id": "VTOFpG5l5x5W"
      }
    },
    {
      "cell_type": "code",
      "source": [
        "from sklearn.tree import DecisionTreeClassifier\n",
        "\n",
        "SEED = 158020\n",
        "np.random.seed(SEED)\n",
        "modelo = DecisionTreeClassifier(max_depth=2)\n",
        "modelo.fit(treino_x, treino_y)\n",
        "previsoes = modelo.predict(teste_x)\n",
        "\n",
        "acuracia = accuracy_score(teste_y, previsoes) * 100\n",
        "print (f\"A acurácia foi {acuracia:.2f}%\")"
      ],
      "metadata": {
        "colab": {
          "base_uri": "https://localhost:8080/"
        },
        "id": "YtIEdRVI5TTs",
        "outputId": "80b9f002-43e4-49a7-b75d-70c744ff9aef"
      },
      "execution_count": null,
      "outputs": [
        {
          "output_type": "stream",
          "name": "stdout",
          "text": [
            "A acurácia foi 71.92%\n"
          ]
        }
      ]
    },
    {
      "cell_type": "markdown",
      "source": [
        "## Efeitos da aleatoriedade"
      ],
      "metadata": {
        "id": "L6s3JNp76iG9"
      }
    },
    {
      "cell_type": "markdown",
      "source": [
        "* A SEED escolhida nos algoritmos com fatores aleatórios pode mudar muito a taxa de acerto dos modelos, e pode causar decisões equivocadas em decisões de negócio."
      ],
      "metadata": {
        "id": "BIXns7x36J42"
      }
    },
    {
      "cell_type": "code",
      "source": [
        "x = dados[[\"preco\", \"idade_do_modelo\",\"km_por_ano\"]]\n",
        "y = dados[\"vendido\"]\n",
        "\n",
        "SEED = 5\n",
        "np.random.seed(SEED)\n",
        "treino_x, teste_x, treino_y, teste_y = train_test_split(x, y, test_size = 0.25,\n",
        "                                                         stratify = y)\n",
        "\n",
        "modelo = DecisionTreeClassifier(max_depth=2)\n",
        "modelo.fit(treino_x, treino_y)\n",
        "previsoes = modelo.predict(teste_x)\n",
        "\n",
        "acuracia = accuracy_score(teste_y, previsoes) * 100\n",
        "print (f\"A acurácia foi {acuracia:.2f}%\")"
      ],
      "metadata": {
        "colab": {
          "base_uri": "https://localhost:8080/"
        },
        "id": "Z_zgLlrl6kGa",
        "outputId": "973062a8-fe53-476c-bf8e-b969f6762353"
      },
      "execution_count": null,
      "outputs": [
        {
          "output_type": "stream",
          "name": "stdout",
          "text": [
            "A acurácia foi 76.84%\n"
          ]
        }
      ]
    },
    {
      "cell_type": "markdown",
      "source": [
        "* O modelo pode ser rodado diversas vezes até que uma estimativa da acurácia seja calculada, com uma margem de acerto, não apenas uma porcentagem fixa altamente relacionada ao fato aleatório."
      ],
      "metadata": {
        "id": "9O-7cQXn7fod"
      }
    },
    {
      "cell_type": "markdown",
      "source": [
        "# Validação cruzada (Cross Validation)"
      ],
      "metadata": {
        "id": "WokszVhkAAm7"
      }
    },
    {
      "cell_type": "markdown",
      "source": [
        "* https://scikit-learn.org/stable/modules/generated/sklearn.model_selection.cross_validate.html\n",
        "\n",
        "* Variações nos conjuntos de treino e teste dos modelos.\n",
        "\n",
        "* k-fold e cross validation.\n",
        "\n",
        "* O k é determinante na confiabilidade da acurácia do modelo. No geral, quanto mais divisões, mais vezes o modelos será avaliado e mais precisa será a acurácia média. Entretanto, quando mais modelos são treinados, mais cara fica a validação."
      ],
      "metadata": {
        "id": "lYLN_zllAFYS"
      }
    },
    {
      "cell_type": "code",
      "source": [
        "from sklearn.model_selection import cross_validate\n",
        "\n",
        "SEED = 158020\n",
        "np.random.seed(SEED)\n",
        "\n",
        "modelo = DecisionTreeClassifier(max_depth=2)\n",
        "results = cross_validate(modelo, x, y, cv = 5) # 5 divisões\n",
        "results"
      ],
      "metadata": {
        "colab": {
          "base_uri": "https://localhost:8080/"
        },
        "id": "_7139c0X8JTN",
        "outputId": "084a3721-f909-402b-d777-a9609cebc0fa"
      },
      "execution_count": null,
      "outputs": [
        {
          "output_type": "execute_result",
          "data": {
            "text/plain": [
              "{'fit_time': array([0.00919557, 0.00786018, 0.00701451, 0.00722575, 0.00729847]),\n",
              " 'score_time': array([0.00185323, 0.00336099, 0.00165582, 0.00182056, 0.00182986]),\n",
              " 'test_score': array([0.756 , 0.7565, 0.7625, 0.7545, 0.7595])}"
            ]
          },
          "metadata": {},
          "execution_count": 7
        }
      ]
    },
    {
      "cell_type": "markdown",
      "source": [
        "* Impressão: tempo para calcular resultados, tempo para calcular nota e resultados dos testes."
      ],
      "metadata": {
        "id": "Jptn42Bv8qpe"
      }
    },
    {
      "cell_type": "code",
      "source": [
        "media = results['test_score'].mean()\n",
        "desvio_padrao = results['test_score'].std()\n",
        "\n",
        "print(f'Accuracy - cross validation (5) = [{(media - 2*desvio_padrao)*100 :.2f}%, {(media + 2*desvio_padrao)*100 :.2f}%]')"
      ],
      "metadata": {
        "colab": {
          "base_uri": "https://localhost:8080/"
        },
        "id": "zeib1Gs-8gAW",
        "outputId": "7f7ca53c-aef9-4d65-d51f-ba54a724580a"
      },
      "execution_count": null,
      "outputs": [
        {
          "output_type": "stream",
          "name": "stdout",
          "text": [
            "Accuracy - cross validation (5) = [75.21%, 76.35%]\n"
          ]
        }
      ]
    },
    {
      "cell_type": "markdown",
      "source": [
        "* Mesmo alterando-se o SEED, o intervalo dificilmente será alterado.\n",
        "\n",
        "* A quantidade de divisões da Cross-validation ainda pode alterar o intervalo de acurácia. São indicados valores de 5 ou 10, sendo que 5 é o cv padrão do **cross_validate**."
      ],
      "metadata": {
        "id": "YcykE2NN-V2z"
      }
    },
    {
      "cell_type": "markdown",
      "source": [
        "# Aleatoriedade no *cross_validate*"
      ],
      "metadata": {
        "id": "geTCApZBAtZa"
      }
    },
    {
      "cell_type": "markdown",
      "source": [
        "* O parâmetro **cv** aceita um inteiro ou um gerador de validação cruzada.\n",
        "\n",
        "* O padrão com o inteiro utiliza o (Stratified)KFold."
      ],
      "metadata": {
        "id": "jRLtsgCmBA3h"
      }
    },
    {
      "cell_type": "markdown",
      "source": [
        "## K-Fold"
      ],
      "metadata": {
        "id": "Toi2NHIqDLwh"
      }
    },
    {
      "cell_type": "code",
      "source": [
        "def imprime_resultado(results):\n",
        "  media = results['test_score'].mean()\n",
        "  desvio_padrao = results['test_score'].std()\n",
        "\n",
        "  print(f'Accuracy mean = {media*100:.2f}%')\n",
        "  print(f'Accuracy interval = [{(media - 2*desvio_padrao)*100 :.2f}%, {(media + 2*desvio_padrao)*100 :.2f}%]')"
      ],
      "metadata": {
        "id": "WSuyNaCxCACm"
      },
      "execution_count": 1,
      "outputs": []
    },
    {
      "cell_type": "code",
      "source": [
        "from sklearn.model_selection import KFold\n",
        "\n",
        "SEED = 158020\n",
        "np.random.seed(SEED)\n",
        "\n",
        "cv = KFold(n_splits = 10)\n",
        "modelo = DecisionTreeClassifier(max_depth=2)\n",
        "results = cross_validate(modelo, x, y, cv = cv)\n",
        "\n",
        "imprime_resultado(results)"
      ],
      "metadata": {
        "colab": {
          "base_uri": "https://localhost:8080/"
        },
        "id": "FzYxI5MM9IV-",
        "outputId": "0d319476-e0aa-4850-dab6-2ddf0aa496e9"
      },
      "execution_count": null,
      "outputs": [
        {
          "output_type": "stream",
          "name": "stdout",
          "text": [
            "Accuracy media = 75.78%\n",
            "Accuracy interval = [74.37%, 77.19%]\n"
          ]
        }
      ]
    },
    {
      "cell_type": "code",
      "source": [
        "SEED = 158020\n",
        "np.random.seed(SEED)\n",
        "\n",
        "cv = KFold(n_splits = 10, shuffle = True)\n",
        "modelo = DecisionTreeClassifier(max_depth=2)\n",
        "results = cross_validate(modelo, x, y, cv = cv)\n",
        "\n",
        "imprime_resultado(results)"
      ],
      "metadata": {
        "colab": {
          "base_uri": "https://localhost:8080/"
        },
        "id": "1YGWRLQfB3dR",
        "outputId": "732c186c-ee7b-4a0e-8b68-d35836840dff"
      },
      "execution_count": null,
      "outputs": [
        {
          "output_type": "stream",
          "name": "stdout",
          "text": [
            "Accuracy media = 75.78%\n",
            "Accuracy interval = [73.58%, 77.98%]\n"
          ]
        }
      ]
    },
    {
      "cell_type": "markdown",
      "source": [
        "* A média permaneceu a mesma, mas o intervalo se alterou.\n",
        "\n",
        "* Há várias alternativas para o KFold (Splitter Classes).\n",
        "\n",
        "* A divisão dos conjuntos de treino e teste de forma totalmente aleatória pode apresentar um desbalanceamento de classes.\n",
        "  * Neste dataset, por exemplo, seriam muitos carros não vendidos considerados no treinamento, mas muitos carros que foram vendidos no conjunto de teste. As características dos anúncios que conseguiram vender seus carros não seriam bem aprendidas pelo modelo e os resultados seriam prejudicados.\n",
        "\n",
        "* O parâmetro **stratified** do **train_test_split** garante balanceamento das classes.\n",
        "\n",
        "* O KFold não garante o balanceamento."
      ],
      "metadata": {
        "id": "26r8NZxgC6nv"
      }
    },
    {
      "cell_type": "markdown",
      "source": [
        "### Simulação de má distribuição dos dados"
      ],
      "metadata": {
        "id": "slgs0azZJY3c"
      }
    },
    {
      "cell_type": "code",
      "source": [
        "dados_azar = dados.sort_values('vendido', ascending = True)\n",
        "x_azar = dados_azar[['preco', 'idade_do_modelo', 'km_por_ano']]\n",
        "y_azar = dados_azar['vendido']\n",
        "\n",
        "SEED = 158020\n",
        "np.random.seed(SEED)\n",
        "\n",
        "cv = KFold(n_splits = 10)\n",
        "modelo = DecisionTreeClassifier(max_depth=2)\n",
        "results = cross_validate(modelo, x_azar, y_azar, cv = cv)\n",
        "\n",
        "imprime_resultado(results)"
      ],
      "metadata": {
        "colab": {
          "base_uri": "https://localhost:8080/"
        },
        "id": "bfi_8M3DJerw",
        "outputId": "ae675e77-7e65-4c7f-de82-15ec816d345e"
      },
      "execution_count": null,
      "outputs": [
        {
          "output_type": "stream",
          "name": "stdout",
          "text": [
            "Accuracy media = 57.84%\n",
            "Accuracy interval = [34.29%, 81.39%]\n"
          ]
        }
      ]
    },
    {
      "cell_type": "markdown",
      "source": [
        "* A acurácia do modelo foi péssima, próxima à classificação binária aleatória (50%)."
      ],
      "metadata": {
        "id": "m6dzwDRvKdvI"
      }
    },
    {
      "cell_type": "code",
      "source": [
        "dados_azar = dados.sort_values('vendido', ascending = True)\n",
        "x_azar = dados_azar[['preco', 'idade_do_modelo', 'km_por_ano']]\n",
        "y_azar = dados_azar['vendido']\n",
        "\n",
        "SEED = 158020\n",
        "np.random.seed(SEED)\n",
        "\n",
        "cv = KFold(n_splits = 10, shuffle = True)\n",
        "modelo = DecisionTreeClassifier(max_depth=2)\n",
        "results = cross_validate(modelo, x_azar, y_azar, cv = cv)\n",
        "\n",
        "imprime_resultado(results)"
      ],
      "metadata": {
        "colab": {
          "base_uri": "https://localhost:8080/"
        },
        "id": "hmTlZMU1KOy7",
        "outputId": "cd2c4e8a-9de6-47b2-c585-0e913f56d964"
      },
      "execution_count": null,
      "outputs": [
        {
          "output_type": "stream",
          "name": "stdout",
          "text": [
            "Accuracy media = 75.76%\n",
            "Accuracy interval = [73.02%, 78.50%]\n"
          ]
        }
      ]
    },
    {
      "cell_type": "markdown",
      "source": [
        "* Nesta situação, apenas a aleatorização (shuffle) do conjunto foi suficiente para gerar resultados muito melhores."
      ],
      "metadata": {
        "id": "HzdJS2hWKS1s"
      }
    },
    {
      "cell_type": "markdown",
      "source": [
        "## Stratified K-Fold"
      ],
      "metadata": {
        "id": "0u75PCn3Isao"
      }
    },
    {
      "cell_type": "markdown",
      "source": [
        "* Faz a separação proporcional das classes, sem necessidade do shuffle."
      ],
      "metadata": {
        "id": "qy4VSihwKzOT"
      }
    },
    {
      "cell_type": "code",
      "source": [
        "from sklearn.model_selection import StratifiedKFold\n",
        "\n",
        "SEED = 158020\n",
        "np.random.seed(SEED)\n",
        "\n",
        "cv = StratifiedKFold(n_splits = 10)\n",
        "modelo = DecisionTreeClassifier(max_depth=2)\n",
        "results = cross_validate(modelo, x_azar, y_azar, cv = cv)\n",
        "\n",
        "imprime_resultado(results)"
      ],
      "metadata": {
        "colab": {
          "base_uri": "https://localhost:8080/"
        },
        "id": "ew-yhSqDC-bP",
        "outputId": "63c25d71-1b9b-4733-d73a-510f2bc20e24"
      },
      "execution_count": null,
      "outputs": [
        {
          "output_type": "stream",
          "name": "stdout",
          "text": [
            "Accuracy media = 75.78%\n",
            "Accuracy interval = [73.83%, 77.73%]\n"
          ]
        }
      ]
    },
    {
      "cell_type": "markdown",
      "source": [
        "## Sobre Splitter Classes"
      ],
      "metadata": {
        "id": "Z0rmzHejMeWc"
      }
    },
    {
      "cell_type": "markdown",
      "source": [
        "* Cada Splitter Class tem uma situação em que é mais recomendada.\n",
        "\n",
        "* https://scikit-learn.org/stable/modules/classes.html#module-sklearn.model_selection"
      ],
      "metadata": {
        "id": "ujI6C_yJL3F6"
      }
    },
    {
      "cell_type": "markdown",
      "source": [
        "# Gerando dados aleatórios para testes de modelos"
      ],
      "metadata": {
        "id": "3gDMPaZ4QTRr"
      }
    },
    {
      "cell_type": "markdown",
      "source": [
        "## Geração da coluna 'modelo' no dataset"
      ],
      "metadata": {
        "id": "dVhyO8caQ8E_"
      }
    },
    {
      "cell_type": "code",
      "source": [
        "dados['idade_do_modelo'].unique()"
      ],
      "metadata": {
        "colab": {
          "base_uri": "https://localhost:8080/"
        },
        "id": "NigXsiAdJCrc",
        "outputId": "6f2c35df-b551-48eb-bbed-be7c17f9a202"
      },
      "execution_count": null,
      "outputs": [
        {
          "output_type": "execute_result",
          "data": {
            "text/plain": [
              "array([18, 20, 12,  3,  4, 11, 16, 10, 19, 15,  2, 17,  9, 13,  7,  6,  5,\n",
              "       14,  8,  1])"
            ]
          },
          "metadata": {},
          "execution_count": 15
        }
      ]
    },
    {
      "cell_type": "code",
      "source": [
        "np.random.seed(SEED)\n",
        "dados['modelo'] = dados['idade_do_modelo'] + np.random.randint(-2, 3, size = 10000)\n",
        "dados.head()"
      ],
      "metadata": {
        "colab": {
          "base_uri": "https://localhost:8080/",
          "height": 206
        },
        "id": "SwzYqvyiRHvl",
        "outputId": "a8556acb-5ad1-4001-d633-bc355f6b13c7"
      },
      "execution_count": null,
      "outputs": [
        {
          "output_type": "execute_result",
          "data": {
            "text/plain": [
              "       preco  vendido  idade_do_modelo   km_por_ano  modelo\n",
              "0   30941.02        1               18  35085.22134      17\n",
              "1   40557.96        1               20  12622.05362      20\n",
              "2   89627.50        0               12  11440.79806      12\n",
              "3   95276.14        0                3  43167.32682       2\n",
              "4  117384.68        1                4  12770.11290       2"
            ],
            "text/html": [
              "\n",
              "  <div id=\"df-04651a1a-0aab-4be0-a582-613a72797af2\">\n",
              "    <div class=\"colab-df-container\">\n",
              "      <div>\n",
              "<style scoped>\n",
              "    .dataframe tbody tr th:only-of-type {\n",
              "        vertical-align: middle;\n",
              "    }\n",
              "\n",
              "    .dataframe tbody tr th {\n",
              "        vertical-align: top;\n",
              "    }\n",
              "\n",
              "    .dataframe thead th {\n",
              "        text-align: right;\n",
              "    }\n",
              "</style>\n",
              "<table border=\"1\" class=\"dataframe\">\n",
              "  <thead>\n",
              "    <tr style=\"text-align: right;\">\n",
              "      <th></th>\n",
              "      <th>preco</th>\n",
              "      <th>vendido</th>\n",
              "      <th>idade_do_modelo</th>\n",
              "      <th>km_por_ano</th>\n",
              "      <th>modelo</th>\n",
              "    </tr>\n",
              "  </thead>\n",
              "  <tbody>\n",
              "    <tr>\n",
              "      <th>0</th>\n",
              "      <td>30941.02</td>\n",
              "      <td>1</td>\n",
              "      <td>18</td>\n",
              "      <td>35085.22134</td>\n",
              "      <td>17</td>\n",
              "    </tr>\n",
              "    <tr>\n",
              "      <th>1</th>\n",
              "      <td>40557.96</td>\n",
              "      <td>1</td>\n",
              "      <td>20</td>\n",
              "      <td>12622.05362</td>\n",
              "      <td>20</td>\n",
              "    </tr>\n",
              "    <tr>\n",
              "      <th>2</th>\n",
              "      <td>89627.50</td>\n",
              "      <td>0</td>\n",
              "      <td>12</td>\n",
              "      <td>11440.79806</td>\n",
              "      <td>12</td>\n",
              "    </tr>\n",
              "    <tr>\n",
              "      <th>3</th>\n",
              "      <td>95276.14</td>\n",
              "      <td>0</td>\n",
              "      <td>3</td>\n",
              "      <td>43167.32682</td>\n",
              "      <td>2</td>\n",
              "    </tr>\n",
              "    <tr>\n",
              "      <th>4</th>\n",
              "      <td>117384.68</td>\n",
              "      <td>1</td>\n",
              "      <td>4</td>\n",
              "      <td>12770.11290</td>\n",
              "      <td>2</td>\n",
              "    </tr>\n",
              "  </tbody>\n",
              "</table>\n",
              "</div>\n",
              "      <button class=\"colab-df-convert\" onclick=\"convertToInteractive('df-04651a1a-0aab-4be0-a582-613a72797af2')\"\n",
              "              title=\"Convert this dataframe to an interactive table.\"\n",
              "              style=\"display:none;\">\n",
              "        \n",
              "  <svg xmlns=\"http://www.w3.org/2000/svg\" height=\"24px\"viewBox=\"0 0 24 24\"\n",
              "       width=\"24px\">\n",
              "    <path d=\"M0 0h24v24H0V0z\" fill=\"none\"/>\n",
              "    <path d=\"M18.56 5.44l.94 2.06.94-2.06 2.06-.94-2.06-.94-.94-2.06-.94 2.06-2.06.94zm-11 1L8.5 8.5l.94-2.06 2.06-.94-2.06-.94L8.5 2.5l-.94 2.06-2.06.94zm10 10l.94 2.06.94-2.06 2.06-.94-2.06-.94-.94-2.06-.94 2.06-2.06.94z\"/><path d=\"M17.41 7.96l-1.37-1.37c-.4-.4-.92-.59-1.43-.59-.52 0-1.04.2-1.43.59L10.3 9.45l-7.72 7.72c-.78.78-.78 2.05 0 2.83L4 21.41c.39.39.9.59 1.41.59.51 0 1.02-.2 1.41-.59l7.78-7.78 2.81-2.81c.8-.78.8-2.07 0-2.86zM5.41 20L4 18.59l7.72-7.72 1.47 1.35L5.41 20z\"/>\n",
              "  </svg>\n",
              "      </button>\n",
              "      \n",
              "  <style>\n",
              "    .colab-df-container {\n",
              "      display:flex;\n",
              "      flex-wrap:wrap;\n",
              "      gap: 12px;\n",
              "    }\n",
              "\n",
              "    .colab-df-convert {\n",
              "      background-color: #E8F0FE;\n",
              "      border: none;\n",
              "      border-radius: 50%;\n",
              "      cursor: pointer;\n",
              "      display: none;\n",
              "      fill: #1967D2;\n",
              "      height: 32px;\n",
              "      padding: 0 0 0 0;\n",
              "      width: 32px;\n",
              "    }\n",
              "\n",
              "    .colab-df-convert:hover {\n",
              "      background-color: #E2EBFA;\n",
              "      box-shadow: 0px 1px 2px rgba(60, 64, 67, 0.3), 0px 1px 3px 1px rgba(60, 64, 67, 0.15);\n",
              "      fill: #174EA6;\n",
              "    }\n",
              "\n",
              "    [theme=dark] .colab-df-convert {\n",
              "      background-color: #3B4455;\n",
              "      fill: #D2E3FC;\n",
              "    }\n",
              "\n",
              "    [theme=dark] .colab-df-convert:hover {\n",
              "      background-color: #434B5C;\n",
              "      box-shadow: 0px 1px 3px 1px rgba(0, 0, 0, 0.15);\n",
              "      filter: drop-shadow(0px 1px 2px rgba(0, 0, 0, 0.3));\n",
              "      fill: #FFFFFF;\n",
              "    }\n",
              "  </style>\n",
              "\n",
              "      <script>\n",
              "        const buttonEl =\n",
              "          document.querySelector('#df-04651a1a-0aab-4be0-a582-613a72797af2 button.colab-df-convert');\n",
              "        buttonEl.style.display =\n",
              "          google.colab.kernel.accessAllowed ? 'block' : 'none';\n",
              "\n",
              "        async function convertToInteractive(key) {\n",
              "          const element = document.querySelector('#df-04651a1a-0aab-4be0-a582-613a72797af2');\n",
              "          const dataTable =\n",
              "            await google.colab.kernel.invokeFunction('convertToInteractive',\n",
              "                                                     [key], {});\n",
              "          if (!dataTable) return;\n",
              "\n",
              "          const docLinkHtml = 'Like what you see? Visit the ' +\n",
              "            '<a target=\"_blank\" href=https://colab.research.google.com/notebooks/data_table.ipynb>data table notebook</a>'\n",
              "            + ' to learn more about interactive tables.';\n",
              "          element.innerHTML = '';\n",
              "          dataTable['output_type'] = 'display_data';\n",
              "          await google.colab.output.renderOutput(dataTable, element);\n",
              "          const docLink = document.createElement('div');\n",
              "          docLink.innerHTML = docLinkHtml;\n",
              "          element.appendChild(docLink);\n",
              "        }\n",
              "      </script>\n",
              "    </div>\n",
              "  </div>\n",
              "  "
            ]
          },
          "metadata": {},
          "execution_count": 16
        }
      ]
    },
    {
      "cell_type": "code",
      "source": [
        "dados['modelo'].unique()"
      ],
      "metadata": {
        "colab": {
          "base_uri": "https://localhost:8080/"
        },
        "id": "SS8OZxGhRsFl",
        "outputId": "2081762f-7835-4893-81b6-c8781038372a"
      },
      "execution_count": null,
      "outputs": [
        {
          "output_type": "execute_result",
          "data": {
            "text/plain": [
              "array([17, 20, 12,  2, 10,  9, 18,  4, 16,  6,  5, 21, 15, 13, 11, 14,  8,\n",
              "        3, 19,  7, 22,  0,  1, -1])"
            ]
          },
          "metadata": {},
          "execution_count": 17
        }
      ]
    },
    {
      "cell_type": "code",
      "source": [
        "# lidando com o modelo negativo e nulo\n",
        "dados['modelo'] = dados['modelo'] + abs(dados['modelo'].min()) + 1\n",
        "dados['modelo'].unique()"
      ],
      "metadata": {
        "colab": {
          "base_uri": "https://localhost:8080/"
        },
        "id": "QEpNKhQYSDTW",
        "outputId": "af9b659f-4f2c-4af9-a9d3-c4e11512e87b"
      },
      "execution_count": null,
      "outputs": [
        {
          "output_type": "execute_result",
          "data": {
            "text/plain": [
              "array([19, 22, 14,  4, 12, 11, 20,  6, 18,  8,  7, 23, 17, 15, 13, 16, 10,\n",
              "        5, 21,  9, 24,  2,  3,  1])"
            ]
          },
          "metadata": {},
          "execution_count": 18
        }
      ]
    },
    {
      "cell_type": "markdown",
      "source": [
        "# Validação cruzada usando grupos, simulando a chegada de um modelo novo"
      ],
      "metadata": {
        "id": "HGRSJ57bTxZT"
      }
    },
    {
      "cell_type": "markdown",
      "source": [
        "## Group K-Fold"
      ],
      "metadata": {
        "id": "Tb1l_OCuUZnm"
      }
    },
    {
      "cell_type": "markdown",
      "source": [
        "* https://scikit-learn.org/stable/modules/generated/sklearn.model_selection.GroupKFold.html\n",
        "\n",
        "* A coluna que contém os grupos deve ser especificada no parâmetro **groups** da **cross_validate**."
      ],
      "metadata": {
        "id": "dozicF75UjB0"
      }
    },
    {
      "cell_type": "code",
      "source": [
        "from sklearn.model_selection import GroupKFold\n",
        "\n",
        "SEED = 301\n",
        "np.random.seed(SEED)\n",
        "\n",
        "cv = GroupKFold(n_splits = 10)\n",
        "modelo = DecisionTreeClassifier(max_depth=2)\n",
        "results = cross_validate(modelo, x_azar, y_azar, cv = cv, groups = dados.modelo)\n",
        "imprime_resultado(results)"
      ],
      "metadata": {
        "colab": {
          "base_uri": "https://localhost:8080/"
        },
        "id": "3QxUbx2jTXdG",
        "outputId": "e9a3187c-eed9-4a0c-8274-f10e10aa67f5"
      },
      "execution_count": null,
      "outputs": [
        {
          "output_type": "stream",
          "name": "stdout",
          "text": [
            "Accuracy media = 75.76%\n",
            "Accuracy interval = [72.91%, 78.60%]\n"
          ]
        }
      ]
    },
    {
      "cell_type": "markdown",
      "source": [
        "# Importância do Pipeline no Cross-validate"
      ],
      "metadata": {
        "id": "u_va0bzUYASU"
      }
    },
    {
      "cell_type": "markdown",
      "source": [
        "* A Árvore de Decisão não tem necessidade de balanceamento de features, mas alguns outros algoritmos, como o SVM, são muito sensíveis à escala dos valores da features e precisam de normalização."
      ],
      "metadata": {
        "id": "WgU-17orXojm"
      }
    },
    {
      "cell_type": "code",
      "source": [
        "from sklearn.preprocessing import StandardScaler\n",
        "from sklearn.svm import SVC\n",
        "\n",
        "SEED = 301\n",
        "np.random.seed(SEED)\n",
        "\n",
        "scaler = StandardScaler()\n",
        "scaler.fit(treino_x)\n",
        "treino_x_normalizado = scaler.transform(treino_x)\n",
        "teste_x_normalizado = scaler.transform(teste_x)\n",
        "\n",
        "modelo = SVC()\n",
        "modelo.fit(treino_x_normalizado, treino_y)\n",
        "previsoes = modelo.predict(teste_x_normalizado)\n",
        "\n",
        "acuracia = accuracy_score(teste_y, previsoes)\n",
        "print(f'A acurácia foi de {acuracia*100:.2f}%')"
      ],
      "metadata": {
        "colab": {
          "base_uri": "https://localhost:8080/"
        },
        "id": "DS2eHanaU2gR",
        "outputId": "48661b63-6bb1-4f77-9508-4009da66becc"
      },
      "execution_count": null,
      "outputs": [
        {
          "output_type": "stream",
          "name": "stdout",
          "text": [
            "A acurácia foi de 77.48%\n"
          ]
        }
      ]
    },
    {
      "cell_type": "markdown",
      "source": [
        "* Para usar a cross-validation com o group k-fold, a normalização **deve** ser feita sobre cada grupo separadamente."
      ],
      "metadata": {
        "id": "gsA_Lmq0a9dv"
      }
    },
    {
      "cell_type": "code",
      "source": [
        "from sklearn.pipeline import Pipeline\n",
        "\n",
        "SEED = 301\n",
        "np.random.seed(SEED)\n",
        "\n",
        "# Definição do Pipeline\n",
        "# O fit e o predict são executados pelo próprio pipeline\n",
        "scaler = StandardScaler()\n",
        "modelo = SVC()\n",
        "pipeline = Pipeline([\n",
        "    ('transformacao', scaler),\n",
        "    ('estimador', modelo)\n",
        "])\n",
        "\n",
        "cv = GroupKFold(n_splits = 10)\n",
        "# é passada toda a pipeline ao invés do modelos para que todos os passos definidos sejam executados em cada um dos groups especificados\n",
        "results = cross_validate(pipeline, x_azar, y_azar, cv = cv, groups = dados['modelo'])\n",
        "imprime_resultado(results)"
      ],
      "metadata": {
        "colab": {
          "base_uri": "https://localhost:8080/"
        },
        "id": "y7z44FJ0Zqs5",
        "outputId": "540b341c-e2af-4ace-a88e-2a31cbad4782"
      },
      "execution_count": null,
      "outputs": [
        {
          "output_type": "stream",
          "name": "stdout",
          "text": [
            "Accuracy media = 76.66%\n",
            "Accuracy interval = [73.65%, 79.66%]\n"
          ]
        }
      ]
    },
    {
      "cell_type": "markdown",
      "source": [
        "* A execução é mais demorada, mas a estimativa é mais realista."
      ],
      "metadata": {
        "id": "GMHSPR4Pc2TX"
      }
    },
    {
      "cell_type": "markdown",
      "source": [
        "# Para obter o modelo final, basta treiná-lo em todos os dados usados na cross-validation (do dataset)."
      ],
      "metadata": {
        "id": "q5ZoCmLweWZl"
      }
    }
  ]
}